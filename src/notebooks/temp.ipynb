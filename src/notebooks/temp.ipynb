{
 "cells": [
  {
   "cell_type": "code",
   "execution_count": 1,
   "metadata": {},
   "outputs": [],
   "source": [
    "import tensorflow as tf\n",
    "import time\n",
    "\n",
    "batch_size = 32\n",
    "dataset_lenth = 32*10"
   ]
  },
  {
   "cell_type": "code",
   "execution_count": 4,
   "metadata": {},
   "outputs": [],
   "source": [
    "class TFDataLoaderIOBound():\n",
    "    def gen_sample(self):\n",
    "        for idx in range(dataset_lenth):\n",
    "            # sleep for 0.01 seconds to simulate a slow data loading process\n",
    "            time.sleep(0.01)\n",
    "            yield idx\n",
    "\n",
    "class TFDataLoaderCPUBound():\n",
    "    def gen_sample(self):\n",
    "        for idx in range(dataset_lenth):\n",
    "            # sleep for 0.01 seconds to simulate a slow data loading process\n",
    "            time.sleep(0.01)\n",
    "            yield idx\n",
    "\n",
    "dataloader = TFDataLoaderIOBound()\n",
    "datagen = dataloader.gen_sample"
   ]
  },
  {
   "cell_type": "code",
   "execution_count": 3,
   "metadata": {},
   "outputs": [
    {
     "name": "stdout",
     "output_type": "stream",
     "text": [
      "Time taken: 5.279019117355347\n"
     ]
    }
   ],
   "source": [
    "tf_dataset = tf.data.Dataset.from_generator(datagen, output_signature=tf.TensorSpec([], tf.int32))\n",
    "# time the dataloader\n",
    "start = time.time()\n",
    "for idx, data in enumerate(tf_dataset):\n",
    "    pass\n",
    "print(\"Time taken: {}\".format(time.time() - start))"
   ]
  },
  {
   "cell_type": "code",
   "execution_count": 5,
   "metadata": {},
   "outputs": [
    {
     "name": "stdout",
     "output_type": "stream",
     "text": [
      "Time taken: 5.34099555015564\n"
     ]
    }
   ],
   "source": [
    "tf_dataset = tf.data.Dataset.from_generator(datagen, output_signature=tf.TensorSpec([], tf.int32))\n",
    "tf_dataset = tf.data.Dataset.range(4).interleave(lambda _:tf_dataset, num_parallel_calls=tf.data.experimental.AUTOTUNE)\n",
    "# time the dataloader\n",
    "start = time.time()\n",
    "for idx, data in enumerate(tf_dataset):\n",
    "    pass\n",
    "print(\"Time taken: {}\".format(time.time() - start))"
   ]
  }
 ],
 "metadata": {
  "kernelspec": {
   "display_name": "medical_env",
   "language": "python",
   "name": "python3"
  },
  "language_info": {
   "codemirror_mode": {
    "name": "ipython",
    "version": 3
   },
   "file_extension": ".py",
   "mimetype": "text/x-python",
   "name": "python",
   "nbconvert_exporter": "python",
   "pygments_lexer": "ipython3",
   "version": "3.9.12"
  },
  "orig_nbformat": 4,
  "vscode": {
   "interpreter": {
    "hash": "575e40928c11cd0238fd6bc914f6b16dd1c4601e7697ba6b3aa0da44f5f3f5bd"
   }
  }
 },
 "nbformat": 4,
 "nbformat_minor": 2
}
